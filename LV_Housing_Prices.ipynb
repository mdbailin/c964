{
 "cells": [
  {
   "cell_type": "code",
   "execution_count": 37,
   "id": "0a55e3a5",
   "metadata": {},
   "outputs": [],
   "source": [
    "# Step 1: Import necessary libraries\n",
    "import pandas as pd\n",
    "import numpy as np\n",
    "import seaborn as sns\n",
    "import matplotlib.pyplot as plt\n",
    "from sklearn.model_selection import train_test_split\n",
    "from sklearn.linear_model import LinearRegression\n",
    "from sklearn.ensemble import RandomForestRegressor\n",
    "from sklearn import metrics\n",
    "import ipywidgets as widgets\n",
    "from IPython.display import display"
   ]
  },
  {
   "cell_type": "code",
   "execution_count": 38,
   "id": "3d200a0c",
   "metadata": {},
   "outputs": [],
   "source": [
    "# Step 2: Load the dataset\n",
    "url = \'https://raw.githubusercontent.com/neonshaman/C964/main/train.csv'\\n",
    "df = pd.read_csv(url)"
   ]
  },
  {
   "cell_type": "code",
   "execution_count": 39,
   "id": "ccfb6f3d",
   "metadata": {},
   "outputs": [],
   "source": [
    "# Step 3: Clean Data\n",
    "\n",
    "# Drop rows with NaN values\n",
    "df_cleaned = df.dropna()\n",
    "\n",
    "# Replace any remaining NaN values with appropriate values (e.g., median or mean of the column)\n",
    "for column in df_cleaned.columns:\n",
    "    df_cleaned[column].fillna(df_cleaned[column].median(), inplace=True)\n",
    "\n",
    "# Remove outliers based on the IQR (Interquartile Range) method\n",
    "Q1 = df_cleaned.quantile(0.25)\n",
    "Q3 = df_cleaned.quantile(0.75)\n",
    "IQR = Q3 - Q1\n",
    "\n",
    "# Define a condition for outliers\n",
    "outlier_condition = ~((df_cleaned < (Q1 - 1.5 * IQR)) | (df_cleaned > (Q3 + 1.5 * IQR))).any(axis=1)\n",
    "\n",
    "# Keep only rows without outliers\n",
    "df_cleaned = df_cleaned.loc[outlier_condition]\n",
    "\n",
    "df = df_cleaned"
   ]
  },
  {
   "cell_type": "code",
   "execution_count": 40,
   "id": "70a111eb",
   "metadata": {},
   "outputs": [],
   "source": [
    "# Feature engineering (e.g., convert yr_renovated to a binary feature)\n",
    "df['is_renovated'] = df['yr_renovated'].apply(lambda x: 0 if x == 0 else 1) # Convert 'yr_renovated' to 'is_renovated'\n",
    "df = df.drop('yr_renovated', axis=1)"
   ]
  },
  {
   "cell_type": "code",
   "execution_count": 52,
   "id": "d1afd45e",
   "metadata": {},
   "outputs": [
    {
     "data": {
      "text/html": [
       "<div>\n",
       "<style scoped>\n",
       "    .dataframe tbody tr th:only-of-type {\n",
       "        vertical-align: middle;\n",
       "    }\n",
       "\n",
       "    .dataframe tbody tr th {\n",
       "        vertical-align: top;\n",
       "    }\n",
       "\n",
       "    .dataframe thead th {\n",
       "        text-align: right;\n",
       "    }\n",
       "</style>\n",
       "<table border=\"1\" class=\"dataframe\">\n",
       "  <thead>\n",
       "    <tr style=\"text-align: right;\">\n",
       "      <th></th>\n",
       "      <th>price</th>\n",
       "      <th>bedrooms</th>\n",
       "      <th>bathrooms</th>\n",
       "      <th>sqft_living</th>\n",
       "      <th>sqft_lot</th>\n",
       "      <th>floors</th>\n",
       "      <th>waterfront</th>\n",
       "      <th>view</th>\n",
       "      <th>condition</th>\n",
       "      <th>sqft_above</th>\n",
       "      <th>sqft_basement</th>\n",
       "      <th>yr_built</th>\n",
       "      <th>is_renovated</th>\n",
       "    </tr>\n",
       "  </thead>\n",
       "  <tbody>\n",
       "    <tr>\n",
       "      <th>count</th>\n",
       "      <td>3.448000e+03</td>\n",
       "      <td>3448.000000</td>\n",
       "      <td>3448.000000</td>\n",
       "      <td>3448.000000</td>\n",
       "      <td>3448.000000</td>\n",
       "      <td>3448.000000</td>\n",
       "      <td>3448.0</td>\n",
       "      <td>3448.0</td>\n",
       "      <td>3448.000000</td>\n",
       "      <td>3448.000000</td>\n",
       "      <td>3448.000000</td>\n",
       "      <td>3448.000000</td>\n",
       "      <td>3448.000000</td>\n",
       "    </tr>\n",
       "    <tr>\n",
       "      <th>mean</th>\n",
       "      <td>4.541016e+05</td>\n",
       "      <td>3.289443</td>\n",
       "      <td>2.019939</td>\n",
       "      <td>1885.550754</td>\n",
       "      <td>7201.772912</td>\n",
       "      <td>1.495795</td>\n",
       "      <td>0.0</td>\n",
       "      <td>0.0</td>\n",
       "      <td>3.447506</td>\n",
       "      <td>1642.646752</td>\n",
       "      <td>242.904002</td>\n",
       "      <td>1970.857889</td>\n",
       "      <td>0.403422</td>\n",
       "    </tr>\n",
       "    <tr>\n",
       "      <th>std</th>\n",
       "      <td>1.983523e+05</td>\n",
       "      <td>0.780740</td>\n",
       "      <td>0.654661</td>\n",
       "      <td>667.449999</td>\n",
       "      <td>3594.135959</td>\n",
       "      <td>0.545225</td>\n",
       "      <td>0.0</td>\n",
       "      <td>0.0</td>\n",
       "      <td>0.662848</td>\n",
       "      <td>664.193938</td>\n",
       "      <td>371.243916</td>\n",
       "      <td>30.120021</td>\n",
       "      <td>0.490655</td>\n",
       "    </tr>\n",
       "    <tr>\n",
       "      <th>min</th>\n",
       "      <td>0.000000e+00</td>\n",
       "      <td>2.000000</td>\n",
       "      <td>0.750000</td>\n",
       "      <td>580.000000</td>\n",
       "      <td>681.000000</td>\n",
       "      <td>1.000000</td>\n",
       "      <td>0.0</td>\n",
       "      <td>0.0</td>\n",
       "      <td>2.000000</td>\n",
       "      <td>580.000000</td>\n",
       "      <td>0.000000</td>\n",
       "      <td>1900.000000</td>\n",
       "      <td>0.000000</td>\n",
       "    </tr>\n",
       "    <tr>\n",
       "      <th>25%</th>\n",
       "      <td>3.040000e+05</td>\n",
       "      <td>3.000000</td>\n",
       "      <td>1.500000</td>\n",
       "      <td>1380.000000</td>\n",
       "      <td>4734.750000</td>\n",
       "      <td>1.000000</td>\n",
       "      <td>0.0</td>\n",
       "      <td>0.0</td>\n",
       "      <td>3.000000</td>\n",
       "      <td>1140.000000</td>\n",
       "      <td>0.000000</td>\n",
       "      <td>1951.000000</td>\n",
       "      <td>0.000000</td>\n",
       "    </tr>\n",
       "    <tr>\n",
       "      <th>50%</th>\n",
       "      <td>4.247500e+05</td>\n",
       "      <td>3.000000</td>\n",
       "      <td>2.000000</td>\n",
       "      <td>1820.000000</td>\n",
       "      <td>7199.000000</td>\n",
       "      <td>1.500000</td>\n",
       "      <td>0.0</td>\n",
       "      <td>0.0</td>\n",
       "      <td>3.000000</td>\n",
       "      <td>1460.000000</td>\n",
       "      <td>0.000000</td>\n",
       "      <td>1974.000000</td>\n",
       "      <td>0.000000</td>\n",
       "    </tr>\n",
       "    <tr>\n",
       "      <th>75%</th>\n",
       "      <td>5.700000e+05</td>\n",
       "      <td>4.000000</td>\n",
       "      <td>2.500000</td>\n",
       "      <td>2310.000000</td>\n",
       "      <td>9250.250000</td>\n",
       "      <td>2.000000</td>\n",
       "      <td>0.0</td>\n",
       "      <td>0.0</td>\n",
       "      <td>4.000000</td>\n",
       "      <td>2030.000000</td>\n",
       "      <td>500.000000</td>\n",
       "      <td>1998.000000</td>\n",
       "      <td>1.000000</td>\n",
       "    </tr>\n",
       "    <tr>\n",
       "      <th>max</th>\n",
       "      <td>1.150000e+06</td>\n",
       "      <td>5.000000</td>\n",
       "      <td>3.500000</td>\n",
       "      <td>4140.000000</td>\n",
       "      <td>20000.000000</td>\n",
       "      <td>3.500000</td>\n",
       "      <td>0.0</td>\n",
       "      <td>0.0</td>\n",
       "      <td>5.000000</td>\n",
       "      <td>3960.000000</td>\n",
       "      <td>1500.000000</td>\n",
       "      <td>2014.000000</td>\n",
       "      <td>1.000000</td>\n",
       "    </tr>\n",
       "  </tbody>\n",
       "</table>\n",
       "</div>"
      ],
      "text/plain": [
       "              price     bedrooms    bathrooms  sqft_living      sqft_lot   \n",
       "count  3.448000e+03  3448.000000  3448.000000  3448.000000   3448.000000  \\\n",
       "mean   4.541016e+05     3.289443     2.019939  1885.550754   7201.772912   \n",
       "std    1.983523e+05     0.780740     0.654661   667.449999   3594.135959   \n",
       "min    0.000000e+00     2.000000     0.750000   580.000000    681.000000   \n",
       "25%    3.040000e+05     3.000000     1.500000  1380.000000   4734.750000   \n",
       "50%    4.247500e+05     3.000000     2.000000  1820.000000   7199.000000   \n",
       "75%    5.700000e+05     4.000000     2.500000  2310.000000   9250.250000   \n",
       "max    1.150000e+06     5.000000     3.500000  4140.000000  20000.000000   \n",
       "\n",
       "            floors  waterfront    view    condition   sqft_above   \n",
       "count  3448.000000      3448.0  3448.0  3448.000000  3448.000000  \\\n",
       "mean      1.495795         0.0     0.0     3.447506  1642.646752   \n",
       "std       0.545225         0.0     0.0     0.662848   664.193938   \n",
       "min       1.000000         0.0     0.0     2.000000   580.000000   \n",
       "25%       1.000000         0.0     0.0     3.000000  1140.000000   \n",
       "50%       1.500000         0.0     0.0     3.000000  1460.000000   \n",
       "75%       2.000000         0.0     0.0     4.000000  2030.000000   \n",
       "max       3.500000         0.0     0.0     5.000000  3960.000000   \n",
       "\n",
       "       sqft_basement     yr_built  is_renovated  \n",
       "count    3448.000000  3448.000000   3448.000000  \n",
       "mean      242.904002  1970.857889      0.403422  \n",
       "std       371.243916    30.120021      0.490655  \n",
       "min         0.000000  1900.000000      0.000000  \n",
       "25%         0.000000  1951.000000      0.000000  \n",
       "50%         0.000000  1974.000000      0.000000  \n",
       "75%       500.000000  1998.000000      1.000000  \n",
       "max      1500.000000  2014.000000      1.000000  "
      ]
     },
     "execution_count": 52,
     "metadata": {},
     "output_type": "execute_result"
    }
   ],
   "source": [
    "# Step 4: Explore and visualize the data\n",
    "# Describe cleaned data\n",
    "sns.set(style=\"whitegrid\")\n",
    "df.describe()"
   ]
  },
  {
   "cell_type": "code",
   "execution_count": 58,
   "id": "0f3d8671",
   "metadata": {},
   "outputs": [
    {
     "data": {
      "image/png": "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\n",
      "text/plain": [
       "<Figure size 432x288 with 1 Axes>"
      ]
     },
     "metadata": {},
     "output_type": "display_data"
    }
   ],
   "source": [
    "# Histogram of Prices\n",
    "p = df['price']\n",
    "plt.hist(p, bins=25);"
   ]
  },
  {
   "cell_type": "code",
   "execution_count": 56,
   "id": "7030f8c6",
   "metadata": {},
   "outputs": [
    {
     "data": {
      "image/png": "iVBORw0KGgoAAAANSUhEUgAAAXkAAAD7CAYAAACPDORaAAAAOXRFWHRTb2Z0d2FyZQBNYXRwbG90bGliIHZlcnNpb24zLjcuMSwgaHR0cHM6Ly9tYXRwbG90bGliLm9yZy/bCgiHAAAACXBIWXMAAAsTAAALEwEAmpwYAAAXGUlEQVR4nO3df0xV9+H/8Rfya9W26brey5xSt7gyapnQYFrZVki3CMjljhaMUp3MNWm1sViZcTrFurl2UEfD1liXLd+uy4xLS52iMnbp5lYyxc15s2lonLoWcCq5gG5VUC5wPd8/mt59+H1RLpf77vPxj/e+7/t6X5d7fPH23HvuibAsyxIAwEhTQh0AABA8lDwAGIySBwCDUfIAYDBKHgAMFhXqAB+5ceOGurq6FB0drYiIiFDHAYCwYFmWent7NW3aNE2ZMnjdPmlKvqurS2fOnAl1DAAISwkJCbrjjjsGjU+ako+Ojpb0YdCYmBg1NjYqKSkpxKkCR97gC7fM4ZZXCr/M5JV6enp05swZf4cONGlK/qNdNDExMYqNjZUk/5/hgrzBF26Zwy2vFH6Zyfuh4XZz88YrABiMkgcAg1HyAGAwSh4ADEbJA4DBKHkAMBglDwAGo+QBTDo9vb6A5qWmpo5p/sfRpDkYCgA+EhMdKee6/QHPP/hyXhDThDdW8gBgMEoeQNCxOyV02F0DIOjY/RI6rOQBwGCUPAAYjJIHAINR8gBgMEoeAAxGyQOAwSh5ADAYJQ8ABqPkAcBgAR3xWlRUpEuXLikq6sPp27Zt07lz5/TTn/5Uvb29WrFihZYtWyZJamhoUFlZmbxerxYuXKiSkpLgpQcAjGjUkrcsS++//77eeecdf8l7PB6VlJRo7969iomJUWFhoR5++GHNnDlTmzZt0q5duzR9+nStXLlS9fX1ysjICPoTAQAMNmrJv//++4qIiNBTTz2lS5cuafHixZo2bZrmz5+vu+66S5KUlZUll8ulhx56SLNmzVJ8fLwkyel0yuVyUfIAECKj7pO/cuWK0tLS9Oqrr+qXv/yl3njjDV28eFE2m80/x263y+PxqK2tbchxAEBojLqSf/DBB/Xggw9KkqZOnapFixaprKxMq1at6jcvIiJClmUNun9ERMSYAjU2Nvovu93uMd031MgbfOGWOdzySoFlTrz/AU2b+okJSBO4cPlZT3TOUUv++PHj6u3tVVpamqQP99HPmDFDHR0d/jltbW2y2+2Ki4sbcnwskpKSFBsbK7fb7T+1Vzggb/CFW+ZwyyuNLfNk++rgcPhZB2Ob8Hq9/RbHA426u+bq1avavn27vF6vOjs7tW/fPv3oRz/S0aNHdfnyZV2/fl1vv/220tPTlZycrKamJrW0tMjn86mmpkbp6enj+oQAAIEbdSX/6KOP6sSJE3rsscd048YNLV26VKmpqSopKVFRUZF6e3u1aNEizZ07V5JUXl6u4uJieb1eZWRkKDs7O+hPAgAwtIA+J7927VqtXbu235jT6ZTT6Rw0Ny0tTQcOHBiXcACAW8MRrwDC3ljPIftxOucs53gFEPY4h+zwWMkDgMEoeQAwGCUPAAaj5AHAYJQ8ABiMkgcAg1HyAGAwSh4ADEbJA4DBKHkAMBglDwAGo+QBwGCUPAAYjJIHAINR8gBgMEoeAAxGyQOAwSh5ADAYJQ8ABqPkAcBglDwAGIySBwCDUfIAYDBKHgAMRskDgMEoeQAwGCUPAAYLuORfeuklbdy4UZJ06tQpFRQUKCsrS5s3b1ZfX58k6eLFi1q2bJmys7P1zDPPqKurKzipAQABCajkjx49qn379vmvr1+/Xlu2bFFdXZ0sy1JVVZUk6fvf/76WLl0ql8ulpKQk7dy5MzipAQABGbXk//vf/6qyslKrVq2SJF24cEHd3d1KSUmRJOXn58vlcqm3t1d/+9vflJWV1W8cABA6o5b8888/r5KSEt15552SpLa2NtlsNv/tNptNHo9H//nPf3T77bcrKiqq3zgAIHSiRrrxrbfe0vTp05WWlqa9e/dKkizLGjQvIiJi2PGxamxs9F92u91jvn8okTf4wi1zuOWVAsucmpo6AUmCK1SvzUQ/7oglX1tbq/b2duXl5emDDz7QtWvXFBERoY6ODv+c9vZ22e123X333ers7JTP51NkZKR/fKySkpIUGxsrt9sdVhsSeYMv3DKHW14pPDPfrFA8z2D8fL1eb7/F8UAj7q55/fXXVVNTo/3792vNmjX66le/qrKyMn8JS1J1dbXS09MVHR2tefPmqba2tt84ACB0bupz8hUVFSorK9PChQt1/fp1FRUVSZK2bt2qqqoq5eTk6Pjx41q7du14ZgUQBD29Pv/lj8sq/uNkxN01/1d+fr7y8/MlSYmJidqzZ8+gOTNmzNCuXbvGLx2AoIuJjpRz3f4x3efgy3lBSoPxxhGvAGAwSh4ADEbJA4DBKHkAMBglDwAGo+QBwGCUPAAYjJIHAINR8gBgMEoeAAxGyQOAwSh5ADAYJQ8ABqPkAcBglDwAGIySBwCDUfIAYDBKHgAMRskDgMEoeQAwGCUP4GOnp9cX1PmTSVSoAwDARIuJjpRz3f6A5x98OS+IaYKLlTwAGIySBwCDUfIAYDBKHgAMRskDgMEoeQAwGCUPAAYLqOR/8pOfKCcnRw6HQ6+//rokqaGhQU6nU5mZmaqsrPTPPXXqlAoKCpSVlaXNmzerr68vOMkBAKMateSPHTumv/zlLzpw4IB+85vfaNeuXfrnP/+pTZs2aefOnaqtrVVjY6Pq6+slSevXr9eWLVtUV1cny7JUVVUV9CcBABjaqCX/0EMP6Ve/+pWioqJ06dIl+Xw+XblyRbNmzVJ8fLyioqLkdDrlcrl04cIFdXd3KyUlRZKUn58vl8sV7OcAABhGQLtroqOj9corr8jhcCgtLU1tbW2y2Wz+2+12uzwez6Bxm80mj8cz/qkBAAEJ+Ltr1qxZo6eeekqrVq1Sc3PzoNsjIiJkWdaQ42PR2Njov+x2u8d031Ajb/CFW+ZwyJuamhrqCGFhvF7Lid4mRi359957Tz09Pbr//vt12223KTMzUy6XS5GRkf45bW1tstvtiouLU0dHh3+8vb1ddrt9TIGSkpIUGxsrt9sdVhsfeYMv3DKHW16MbDxey2BsE16vt9/ieKBRd9ecP39epaWl6unpUU9Pjw4dOqTCwkI1NTWppaVFPp9PNTU1Sk9P14wZM/wFLUnV1dVKT08fv2cDABiTUVfyGRkZOnHihB577DFFRkYqMzNTDodDd999t4qLi+X1epWRkaHs7GxJUkVFhUpLS9XV1aU5c+aoqKgo6E8CADC0gPbJr1mzRmvWrOk3lpaWpgMHDgyam5iYqD179oxPOgDALeGIVwAwGCUPAAaj5AHAYJQ8ABiMkgcAg1HyAGAwSh4ADEbJA4DBKHkAMBglDwAGo+QBwGCUPAAYjJIHAINR8gBgMEoeAAxGyQOAwSh5ADAYJQ8YpqfXF+oImEQCOv0fgPAREx0p57r9Ac8/+HJeENMg1FjJA4DBKHkAMBglDwAGo+QBwGCUPAAYjJIHAINR8gBgMEoeAAxGyQOAwSh5ADBYQCW/Y8cOORwOORwObd++XZLU0NAgp9OpzMxMVVZW+ueeOnVKBQUFysrK0ubNm9XX1xec5ACAUY1a8g0NDTp8+LD27dun6upqvfvuu6qpqdGmTZu0c+dO1dbWqrGxUfX19ZKk9evXa8uWLaqrq5NlWaqqqgr6kwAADG3UkrfZbNq4caNiYmIUHR2t2bNnq7m5WbNmzVJ8fLyioqLkdDrlcrl04cIFdXd3KyUlRZKUn58vl8sV7OcAABjGqN9Ced999/kvNzc3q7a2VsuXL5fNZvOP2+12eTwetbW19Ru32WzyeDxjCtTY2Oi/7Ha7x3TfUCNv8IVb5lDkTU1NnfDH/DgYr9dyoreJgL9q+OzZs1q5cqU2bNigqKgoNTU19bs9IiJClmUNul9ERMSYAiUlJSk2NlZutzusNlbyBl+4ZQ63vBjZeLyWwdgmvF5vv8XxQAG98ep2u7VixQqtW7dOjz/+uOLi4tTR0eG/va2tTXa7fdB4e3u77Hb7LcQHANyKUUu+tbVVq1evVkVFhRwOhyQpOTlZTU1Namlpkc/nU01NjdLT0zVjxgz/KlySqqurlZ6eHtxnAAAY1qi7a1577TV5vV6Vl5f7xwoLC1VeXq7i4mJ5vV5lZGQoOztbklRRUaHS0lJ1dXVpzpw5KioqCl56AMCIRi350tJSlZaWDnnbgQMHBo0lJiZqz549t54MAHDLOOIVAEZxMydHnywnVOdE3gAwirGeHF2aPCdIZyUPAAaj5AHAYJQ8ABiMkgcAg1HyAGAwSh4ADEbJA4DBKHkAMBglDwAGo+QBwGCUPAAYjJIHAINR8gBgMEoeAAxGyQOAwSh5ADAYJQ8ABqPkAcBglDwAGIySBwCDUfIAYDBKHgAMRskDgMEoeQAwGCUPAAaj5AHAYJQ8ABgs4JLv7OxUbm6uzp8/L0lqaGiQ0+lUZmamKisr/fNOnTqlgoICZWVlafPmzerr6xv/1ACAgARU8idOnNATTzyh5uZmSVJ3d7c2bdqknTt3qra2Vo2Njaqvr5ckrV+/Xlu2bFFdXZ0sy1JVVVXQwgMARhZQyVdVVWnr1q2y2+2SpJMnT2rWrFmKj49XVFSUnE6nXC6XLly4oO7ubqWkpEiS8vPz5XK5ghYeADCyqEAmvfjii/2ut7W1yWaz+a/b7XZ5PJ5B4zabTR6PZ0yBGhsb/ZfdbveY7htq5A2+cMscirypqakT/pgY2lCv/0RvEwGV/ECWZQ0ai4iIGHZ8LJKSkhQbGyu32x1WGyt5gy/cModbXoy/ga9/MLYJr9fbb3E80E19uiYuLk4dHR3+621tbbLb7YPG29vb/bt4AAAT76ZKPjk5WU1NTWppaZHP51NNTY3S09M1Y8YM/ypckqqrq5Wenj6ugQEAgbup3TWxsbEqLy9XcXGxvF6vMjIylJ2dLUmqqKhQaWmpurq6NGfOHBUVFY1rYABA4MZU8n/84x/9l9PS0nTgwIFBcxITE7Vnz55bTwYAuGUc8QpMcj29vlBHQBi7qd01ACZOTHSknOv2Bzz/4Mt5QUyDcMNKHgAMRskDgMEoeQAwGCUPAAaj5AHAYJQ8ABiMkgeAIBjq+IaRvpwsWMdD8Dl5AAiCyXJ8Ayt5ADAYJQ8ABqPkAcBglDwAGIySBwCDUfIAYDBKHgAMRskDgMEoeWCCcaYnTCSOeAUm2GQ5EhIfD6zkAcBglDwAGIySBwCDGVPyN/NmFm+AATCdMW+8jvXNLIk3tACYz5iVPABgMEoeAAxGyQOAwSh5ADBYUEr+4MGDysnJ0YIFC7R79+5gPAQwaQz3Ka2RTtoMTJRx/3SNx+NRZWWl9u7dq5iYGBUWFurhhx/W5z//+fF+KCAoenp9iomODHg+X1OAyWzcS76hoUHz58/XXXfdJUnKysqSy+XSs88+O+L9LMuSJPX09PjHvF7vmB77rmmB/8O8mb9/ov++YAu3vNLYM/f2+RQdNbbtQpKWP/+7gOf+v80LxrTteb3esJ4/GTNNtvk3+xg346PO/KhDB4qwhrvlJv3sZz/TtWvXVFJSIkl66623dPLkSf3gBz8Y8X5Xr17VmTNnxjMKAHxsJCQk6I477hg0Pu4r+aF+Z0RERIx6v2nTpikhIUHR0dEBzQcAfNi5vb29mjZt2pC3j3vJx8XF6fjx4/7rbW1tstvto95vypQpQ/4WAgCM7BOf+MSwt437p2u+9KUv6ejRo7p8+bKuX7+ut99+W+np6eP9MACAAARlJV9SUqKioiL19vZq0aJFmjt37ng/DAAgAOP+xisAYPLgiFcAMBglDwAGo+QBwGCUPAAYbNKUfGdnp3Jzc3X+/HlJ0q9//Ws5HA7l5OTopZdeGvaQ3VAZmPcju3fv1vLly0OUamQDM3/3u99VZmam8vLylJeXp9///vchTtjfwLx///vftXjxYjkcDn3729/u9xUYk8H/zVtfX+//uebl5Wn+/PlauXJlqCMOMvBnfPjwYX39619Xbm6uvvOd70zqn7Ek7d27Vzk5OXI6nXrhhRfU19cX4oT97dixQw6HQw6HQ9u3b5f04Ve/OJ1OZWZmqrKyMvghrEngH//4h5Wbm2s98MAD1r///W/r3Llz1oIFC6yuri6rr6/PWrJkifXnP/851DH9Bub9yNmzZ61HHnnE+sY3vhHCdEMbKnNubq7l8XhCnGxoA/NevXrV+vKXv2ydOnXKsizLKikpsXbv3h3ilP8z3DZhWZbV1tZmfe1rX7OamppCE24YQ2VOT0+3/vWvf1mWZVnFxcVWVVVVKCP2MzDve++9Zz3yyCP+bXjr1q3WL37xixCn/J8jR45YS5Yssbxer9XT02MVFRVZBw8etDIyMqxz585Zvb291pNPPmm98847Qc0xKVbyVVVV2rp1q//I2Pj4eP32t7/V1KlTdeXKFXV2durOO+8Mccr/GZhX+vBLgp5//nk999xzIUw2vIGZr127posXL2rLli1yOp165ZVXdOPGjRCn/J+BeY8cOaKUlBQlJiZKkkpLS7VgwYJQRuxnqG3iI9u3b1dhYaE++9nPTnywEQyV2efzqbOzUz6fT16vV7GxsSFM2N/AvKdPn1ZKSor/+qOPPqo//OEPoYzYj81m08aNGxUTE6Po6GjNnj1bzc3NmjVrluLj4xUVFSWn0ymXyxXUHJPiRN4vvvjioLHo6GhVVVXppZde0ty5c/3/uCeDofK+/PLLKigo0MyZM0OQaHQDM1+6dEnz58/Xtm3bNHXqVK1cuVJ79uzR4sWLQ5Swv4F5W1paNHXqVK1evVrnzp3TvHnztHHjxhClG2yobUKSmpubdezYsWFvD6WhMn3ve9/T8uXLdfvtt2vmzJnKzs4OQbKhDcybmJio8vJytba2ym63y+VyqaOjI0TpBrvvvvv8l5ubm1VbW6vly5fLZrP5x+12uzweT1BzTIqV/HAWL16sv/71r7rnnnu0Y8eOUMcZ1pEjR9Ta2qqCgoJQRwlYfHy8Xn31VX3qU5/SbbfdpuXLl6u+vj7UsYbl8/l0+PBhbdy4UdXV1bp+/bp+/vOfhzrWqN58800tXbpUMTExoY4yqvb2dlVUVKimpkaHDx9WcnKyysrKQh1rWJ/73Oe0bt06PfPMM1q2bJm+8IUvKDo6OtSxBjl79qyefPJJbdiwQffee++g24P9hYyTsuRbW1vldrslSVFRUXI4HDp9+nSIUw2vpqZGZ8+eVV5enkpLS9XY2Ki1a9eGOtaITp8+rbq6Ov91y7IUFTUp/mM3pHvuuUfJycmKj49XZGSkFi5cqJMnT4Y61qgOHTqknJycUMcIyPHjx5WQkKB7771XU6ZM0eLFi3Xs2LFQxxqW1+vV3LlzVV1drTfeeEOf+cxnFB8fH+pY/bjdbq1YsULr1q3T448/rri4uH7/2wj0CxxvxaQs+atXr2r9+vW6cuWKLMtSXV3dpD6VWllZmX73u99p//79euGFF5SUlKQf//jHoY41Isuy9MMf/lAffPCBent79eabb06qfdwDfeUrX9G7776r1tZWSdKf/vQnPfDAAyFONbLLly+ru7t70hXPcBISEnTy5El/CR06dEhf/OIXQ5xqeNeuXdM3v/lNdXZ2qqenR7t27ZpUv1BbW1u1evVqVVRUyOFwSJKSk5PV1NSklpYW+Xw+1dTUBP0LHCfl0i0hIUFPP/20CgsLFRkZqXnz5ulb3/pWqGMZJTExUU8//bSeeOIJ9fX1KTMzU7m5uaGONazp06dr27ZtWrVqlbxer+6//35t2LAh1LFGdP78eX36058OdYyAzZ49W88995yKiooUGRmpWbNmadu2baGONaxPfvKTevbZZ7VkyRL19fUpNzdXTqcz1LH8XnvtNXm9XpWXl/vHCgsLVV5eruLiYnm9XmVkZAT9fQ++oAwADDYpd9cAAMYHJQ8ABqPkAcBglDwAGIySBwCDUfIAYDBKHgAMRskDgMH+P/T+65asKwehAAAAAElFTkSuQmCC\n",
      "text/plain": [
       "<Figure size 432x288 with 1 Axes>"
      ]
     },
     "metadata": {},
     "output_type": "display_data"
    }
   ],
   "source": [
    "# Normalized Histogram of Prices\n",
    "offset_log = 10000\n",
    "plt.hist(np.log2(p + offset_log), bins = 25);"
   ]
  },
  {
   "cell_type": "code",
   "execution_count": 41,
   "id": "726614be",
   "metadata": {},
   "outputs": [
    {
     "data": {
      "image/png": "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\n",
      "text/plain": [
       "<Figure size 1296x1296 with 2 Axes>"
      ]
     },
     "metadata": {
      "needs_background": "light"
     },
     "output_type": "display_data"
    }
   ],
   "source": [
    "# Correlation heatmap\n",
    "plt.figure(figsize = (18, 18))\n",
    "train_corr = df.corr()\n",
    "sns.heatmap(train_corr, cmap = \"coolwarm\", annot=True, fmt='.2f', linewidths = 0.05);"
   ]
  },
  {
   "cell_type": "code",
   "execution_count": 84,
   "id": "342e1624",
   "metadata": {},
   "outputs": [],
   "source": [
    "# Step 5: Create and evaluate multiple regression models\n",
    "# Split dataset into features (X) and target (y) variables\n",
    "x = df.drop('price', axis=1)\n",
    "y = df['price']"
   ]
  },
  {
   "cell_type": "code",
   "execution_count": 85,
   "id": "d865015d",
   "metadata": {},
   "outputs": [],
   "source": [
    "# Split dataset into train and test data\n",
    "X_train, X_test, y_train, y_test = train_test_split(x, y, test_size=0.5, random_state=0)"
   ]
  },
  {
   "cell_type": "code",
   "execution_count": 95,
   "id": "41815ef3",
   "metadata": {},
   "outputs": [
    {
     "name": "stdout",
     "output_type": "stream",
     "text": [
      "Mean Squared Error: 23722383389.76131\n",
      "R-squared is: 0.999660491591705\n"
     ]
    }
   ],
   "source": [
    "# Create a Linear Regression model\n",
    "lr = LinearRegression()\n",
    "lr.fit(X_train, y_train)\n",
    "\n",
    "# Predict and evaluate the model\n",
    "y_pred = lr.predict(X_test)\n",
    "mse = metrics.mean_squared_error(y_test, y_pred)\n",
    "tss = np.var(y_test)*len(y_test)\n",
    "r_squ = 1 - (mse/tss)\n",
    "print(\"Mean Squared Error:\", mse)\n",
    "print(\"R-squared is:\", r_squ)"
   ]
  },
  {
   "cell_type": "code",
   "execution_count": 96,
   "id": "d5341618",
   "metadata": {},
   "outputs": [
    {
     "name": "stdout",
     "output_type": "stream",
     "text": [
      "Mean Squared Error (Random Forest): 24065286669.622116\n",
      "R-squared is: 0.9996555840516475\n"
     ]
    }
   ],
   "source": [
    "# Create a Random Forest Regression Model\n",
    "rf = RandomForestRegressor(n_estimators=150, random_state=42)\n",
    "rf.fit(X_train, y_train)\n",
    "\n",
    "# Predict and evaluate the model\n",
    "y_pred_rf = rf.predict(X_test)\n",
    "mse_rf = metrics.mean_squared_error(y_test, y_pred_rf)\n",
    "tss_rf = np.var(y_test)*len(y_test)\n",
    "r_squ_rf = 1 - (mse_rf/tss_rf)\n",
    "print(\"Mean Squared Error (Random Forest):\", mse_rf)\n",
    "print(\"R-squared is:\", r_squ_rf)"
   ]
  },
  {
   "cell_type": "code",
   "execution_count": 90,
   "id": "e61bf801",
   "metadata": {},
   "outputs": [],
   "source": [
    "# Step 6: Create widgets and a button for user interaction\n",
    "# Create widgets to get input from user\n",
    "bedrooms = widgets.BoundedIntText(min=0, max=10, value=3, description='Bedrooms:')\n",
    "bathrooms = widgets.FloatText(min=0, max=10, value=2, description='Bathrooms:')\n",
    "sqft_living = widgets.BoundedIntText(min=0, max=20000, value=1500, description='Sqft Living:')\n",
    "sqft_lot = widgets.BoundedIntText(min=0, max=200000, value=5000, description='Sqft Lot:')\n",
    "floors = widgets.FloatSlider(min=1, max=4, value=2, step=0.5, description='Floors:')\n",
    "waterfront = widgets.Checkbox(value=False, description='Waterfront?')\n",
    "view = widgets.BoundedIntText(min=0, max=4, value=0, description='View:')\n",
    "condition = widgets.IntSlider(min=1, max=5, value=3, description='Condition:')\n",
    "sqft_above = widgets.BoundedIntText(min=0, max=20000, value=1000, description='Sqft Above:')\n",
    "sqft_basement = widgets.BoundedIntText(min=0, max=20000, value=500, description='Sqft Basement:')\n",
    "yr_built = widgets.IntSlider(min=1900, max=2020, value=1990, description='Year Built:')\n",
    "is_renovated = widgets.Checkbox(value=False, description='Renovated?')\n"
   ]
  },
  {
   "cell_type": "code",
   "execution_count": 91,
   "id": "50e095db",
   "metadata": {},
   "outputs": [
    {
     "data": {
      "application/vnd.jupyter.widget-view+json": {
       "model_id": "970e231889594ff1bcf29ada5a70e74a",
       "version_major": 2,
       "version_minor": 0
      },
      "text/plain": [
       "BoundedIntText(value=3, description='Bedrooms:', max=10)"
      ]
     },
     "metadata": {},
     "output_type": "display_data"
    },
    {
     "data": {
      "application/vnd.jupyter.widget-view+json": {
       "model_id": "93eb4550a915480ebb1e0f8c55e5605d",
       "version_major": 2,
       "version_minor": 0
      },
      "text/plain": [
       "FloatText(value=2.0, description='Bathrooms:')"
      ]
     },
     "metadata": {},
     "output_type": "display_data"
    },
    {
     "data": {
      "application/vnd.jupyter.widget-view+json": {
       "model_id": "d19b69a6815a4f819da8a928794da4d4",
       "version_major": 2,
       "version_minor": 0
      },
      "text/plain": [
       "BoundedIntText(value=1500, description='Sqft Living:', max=20000)"
      ]
     },
     "metadata": {},
     "output_type": "display_data"
    },
    {
     "data": {
      "application/vnd.jupyter.widget-view+json": {
       "model_id": "19fb8190129240ec9e3ac49f8e2f141d",
       "version_major": 2,
       "version_minor": 0
      },
      "text/plain": [
       "BoundedIntText(value=5000, description='Sqft Lot:', max=200000)"
      ]
     },
     "metadata": {},
     "output_type": "display_data"
    },
    {
     "data": {
      "application/vnd.jupyter.widget-view+json": {
       "model_id": "4e843f2cff6546bb95e099269df5c8c9",
       "version_major": 2,
       "version_minor": 0
      },
      "text/plain": [
       "FloatSlider(value=2.0, description='Floors:', max=4.0, min=1.0, step=0.5)"
      ]
     },
     "metadata": {},
     "output_type": "display_data"
    },
    {
     "data": {
      "application/vnd.jupyter.widget-view+json": {
       "model_id": "ff996a85b42e47d3a7e899da15615b63",
       "version_major": 2,
       "version_minor": 0
      },
      "text/plain": [
       "Checkbox(value=False, description='Waterfront?')"
      ]
     },
     "metadata": {},
     "output_type": "display_data"
    },
    {
     "data": {
      "application/vnd.jupyter.widget-view+json": {
       "model_id": "28cee4b716f748c3aa448b74dfda5ddf",
       "version_major": 2,
       "version_minor": 0
      },
      "text/plain": [
       "BoundedIntText(value=0, description='View:', max=4)"
      ]
     },
     "metadata": {},
     "output_type": "display_data"
    },
    {
     "data": {
      "application/vnd.jupyter.widget-view+json": {
       "model_id": "492ce22191404f66baf3add545b11265",
       "version_major": 2,
       "version_minor": 0
      },
      "text/plain": [
       "IntSlider(value=3, description='Condition:', max=5, min=1)"
      ]
     },
     "metadata": {},
     "output_type": "display_data"
    },
    {
     "data": {
      "application/vnd.jupyter.widget-view+json": {
       "model_id": "6c56608df8404d149b9f137c9cdf1ae5",
       "version_major": 2,
       "version_minor": 0
      },
      "text/plain": [
       "BoundedIntText(value=1000, description='Sqft Above:', max=20000)"
      ]
     },
     "metadata": {},
     "output_type": "display_data"
    },
    {
     "data": {
      "application/vnd.jupyter.widget-view+json": {
       "model_id": "4b55f749927b42dbb47fdd712dfea054",
       "version_major": 2,
       "version_minor": 0
      },
      "text/plain": [
       "BoundedIntText(value=500, description='Sqft Basement:', max=20000)"
      ]
     },
     "metadata": {},
     "output_type": "display_data"
    },
    {
     "data": {
      "application/vnd.jupyter.widget-view+json": {
       "model_id": "869bc19f93854044b7b9706e1dc7717c",
       "version_major": 2,
       "version_minor": 0
      },
      "text/plain": [
       "IntSlider(value=1990, description='Year Built:', max=2020, min=1900)"
      ]
     },
     "metadata": {},
     "output_type": "display_data"
    },
    {
     "data": {
      "application/vnd.jupyter.widget-view+json": {
       "model_id": "a93db42ca44d4368870b42bf62bbaccd",
       "version_major": 2,
       "version_minor": 0
      },
      "text/plain": [
       "Checkbox(value=False, description='Renovated?')"
      ]
     },
     "metadata": {},
     "output_type": "display_data"
    }
   ],
   "source": [
    "# Display widgets\n",
    "display(bedrooms, bathrooms, sqft_living, sqft_lot, floors, waterfront, view, condition, \n",
    "        sqft_above, sqft_basement, yr_built, is_renovated)"
   ]
  },
  {
   "cell_type": "code",
   "execution_count": 92,
   "id": "8085baad",
   "metadata": {},
   "outputs": [],
   "source": [
    "# Create buttons for prediction with linear regression and random forest\n",
    "predict_button_lr = widgets.Button(description=\"Predict Price Using Linear Regression\", \n",
    "                                   layout=widgets.Layout(width='400px'))\n",
    "predict_button_rf = widgets.Button(description=\"Predict Price Using Random Forest\",\n",
    "                                   layout=widgets.Layout(width='400px'))\n",
    "output = widgets.Output()\n",
    "\n",
    "def on_button_click_lr(b):\n",
    "    # Collect user input as a DataFrame to make a prediction \n",
    "    user_input = pd.DataFrame({'bedrooms': [bedrooms.value],\n",
    "                               'bathrooms': [bathrooms.value],\n",
    "                               'sqft_living': [sqft_living.value],\n",
    "                               'sqft_lot': [sqft_lot.value],\n",
    "                               'floors': [floors.value],\n",
    "                               'waterfront': [waterfront.value],\n",
    "                               'view': [view.value],\n",
    "                               'condition': [condition.value],\n",
    "                               'sqft_above': [sqft_above.value],\n",
    "                               'sqft_basement': [sqft_basement.value], \n",
    "                               'yr_built': [yr_built.value], \n",
    "                               'is_renovated': [is_renovated.value]})\n",
    "    \n",
    "    # Predict the price with the given input\n",
    "    user_pred = lr.predict(user_input)\n",
    "\n",
    "    # Display the prediction\n",
    "    with output:\n",
    "        output.clear_output()\n",
    "        print(f\"Predicted Price (Linear Regression): ${user_pred[0]:,.2f}\")\n",
    "        \n",
    "def on_button_click_rf(b):\n",
    "    # Collect user input as a DataFrame to make a prediction\n",
    "    user_input = pd.DataFrame({'bedrooms': [bedrooms.value],\n",
    "                               'bathrooms': [bathrooms.value],\n",
    "                               'sqft_living': [sqft_living.value],\n",
    "                               'sqft_lot': [sqft_lot.value],\n",
    "                               'floors': [floors.value],\n",
    "                               'waterfront': [waterfront.value],\n",
    "                               'view': [view.value],\n",
    "                               'condition': [condition.value],\n",
    "                               'sqft_above': [sqft_above.value],\n",
    "                               'sqft_basement': [sqft_basement.value],\n",
    "                               'yr_built': [yr_built.value],\n",
    "                               'is_renovated': [is_renovated.value]})\n",
    "    \n",
    "    # Predict the price with the given input\n",
    "    user_pred_rf = rf.predict(user_input)\n",
    "    \n",
    "    # Display the prediction\n",
    "    with output:\n",
    "        output.clear_output()\n",
    "        print(f\"Predicted Price (Random Forest): ${user_pred_rf[0]:,.2f}\")"
   ]
  },
  {
   "cell_type": "code",
   "execution_count": 93,
   "id": "552d0686",
   "metadata": {},
   "outputs": [
    {
     "data": {
      "application/vnd.jupyter.widget-view+json": {
       "model_id": "6361e23cc5e4472da2e417f3bf245476",
       "version_major": 2,
       "version_minor": 0
      },
      "text/plain": [
       "Button(description='Predict Price Using Random Forest', layout=Layout(width='400px'), style=ButtonStyle())"
      ]
     },
     "metadata": {},
     "output_type": "display_data"
    },
    {
     "data": {
      "application/vnd.jupyter.widget-view+json": {
       "model_id": "e040b27e263b423eb155e805ff6bd811",
       "version_major": 2,
       "version_minor": 0
      },
      "text/plain": [
       "Button(description='Predict Price Using Linear Regression', layout=Layout(width='400px'), style=ButtonStyle())"
      ]
     },
     "metadata": {},
     "output_type": "display_data"
    },
    {
     "data": {
      "application/vnd.jupyter.widget-view+json": {
       "model_id": "6d500030b6404f60881844c865ac06fc",
       "version_major": 2,
       "version_minor": 0
      },
      "text/plain": [
       "Output(outputs=({'output_type': 'stream', 'text': 'Predicted Price (Random Forest): $381,135.93\\n', 'name': 's…"
      ]
     },
     "metadata": {},
     "output_type": "display_data"
    }
   ],
   "source": [
    "# Display Buttons\n",
    "predict_button_rf.on_click(on_button_click_rf) \n",
    "display(predict_button_rf)\n",
    "predict_button_lr.on_click(on_button_click_lr)\n",
    "display(predict_button_lr)\n",
    "display(output)"
   ]
  },
  {
   "cell_type": "code",
   "execution_count": null,
   "id": "99565321",
   "metadata": {},
   "outputs": [],
   "source": []
  }
 ],
 "metadata": {
  "kernelspec": {
   "display_name": "Python 3 (ipykernel)",
   "language": "python",
   "name": "python3"
  },
  "language_info": {
   "codemirror_mode": {
    "name": "ipython",
    "version": 3
   },
   "file_extension": ".py",
   "mimetype": "text/x-python",
   "name": "python",
   "nbconvert_exporter": "python",
   "pygments_lexer": "ipython3",
   "version": "3.10.1"
  }
 },
 "nbformat": 4,
 "nbformat_minor": 5
}
